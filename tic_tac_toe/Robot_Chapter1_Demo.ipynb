{
  "nbformat": 4,
  "nbformat_minor": 0,
  "metadata": {
    "colab": {
      "provenance": [],
      "include_colab_link": true
    },
    "kernelspec": {
      "name": "python3",
      "display_name": "Python 3"
    },
    "language_info": {
      "name": "python"
    }
  },
  "cells": [
    {
      "cell_type": "markdown",
      "metadata": {
        "id": "view-in-github",
        "colab_type": "text"
      },
      "source": [
        "<a href=\"https://colab.research.google.com/github/Huypham07/Intelligent-Agents/blob/main/Robot_Chapter1_Demo.ipynb\" target=\"_parent\"><img src=\"https://colab.research.google.com/assets/colab-badge.svg\" alt=\"Open In Colab\"/></a>"
      ]
    },
    {
      "cell_type": "code",
      "execution_count": null,
      "metadata": {
        "id": "jm1TIlCaI6iF"
      },
      "outputs": [],
      "source": [
        "import numpy as np\n",
        "import pickle\n",
        "\n",
        "BOARD_ROWS = 3\n",
        "BOARD_COLS = 3\n",
        "BOARD_SIZE = BOARD_ROWS * BOARD_COLS"
      ]
    },
    {
      "cell_type": "code",
      "source": [
        "class State:\n",
        "    def __init__(self):\n",
        "        # the board is represented by an n * n array,\n",
        "        # 1 represents a chessman of the player who moves first,\n",
        "        # -1 represents a chessman of another player\n",
        "        # 0 represents an empty position\n",
        "        self.data = np.zeros((BOARD_ROWS, BOARD_COLS))\n",
        "        self.winner = None\n",
        "        self.hash_val = None\n",
        "        self.end = None\n",
        "\n",
        "    # compute the hash value for one state, it's unique\n",
        "    def hash(self):\n",
        "        if self.hash_val is None:\n",
        "            self.hash_val = 0\n",
        "            for i in np.nditer(self.data):\n",
        "                self.hash_val = self.hash_val * 3 + i + 1\n",
        "        return self.hash_val\n",
        "\n",
        "    # check whether a player has won the game, or it's a tie\n",
        "    def is_end(self):\n",
        "        if self.end is not None:\n",
        "            return self.end\n",
        "        results = []\n",
        "        # check row\n",
        "        for i in range(BOARD_ROWS):\n",
        "            results.append(np.sum(self.data[i, :]))\n",
        "        # check columns\n",
        "        for i in range(BOARD_COLS):\n",
        "            results.append(np.sum(self.data[:, i]))\n",
        "\n",
        "        # check diagonals\n",
        "        trace = 0\n",
        "        reverse_trace = 0\n",
        "        for i in range(BOARD_ROWS):\n",
        "            trace += self.data[i, i]\n",
        "            reverse_trace += self.data[i, BOARD_ROWS - 1 - i]\n",
        "        results.append(trace)\n",
        "        results.append(reverse_trace)\n",
        "\n",
        "        for result in results:\n",
        "            if result == 3:\n",
        "                self.winner = 1\n",
        "                self.end = True\n",
        "                return self.end\n",
        "            if result == -3:\n",
        "                self.winner = -1\n",
        "                self.end = True\n",
        "                return self.end\n",
        "\n",
        "        # whether it's a tie\n",
        "        sum_values = np.sum(np.abs(self.data))\n",
        "        if sum_values == BOARD_SIZE:\n",
        "            self.winner = 0\n",
        "            self.end = True\n",
        "            return self.end\n",
        "\n",
        "        # game is still going on\n",
        "        self.end = False\n",
        "        return self.end\n",
        "\n",
        "    # @symbol: 1 or -1\n",
        "    # put chessman symbol in position (i, j)\n",
        "    def next_state(self, i, j, symbol):\n",
        "        new_state = State()\n",
        "        new_state.data = np.copy(self.data)\n",
        "        new_state.data[i, j] = symbol\n",
        "        return new_state\n",
        "\n",
        "    # print the board\n",
        "    def print_state(self):\n",
        "        for i in range(BOARD_ROWS):\n",
        "            print('-------------')\n",
        "            out = '| '\n",
        "            for j in range(BOARD_COLS):\n",
        "                if self.data[i, j] == 1:\n",
        "                    token = '*'\n",
        "                elif self.data[i, j] == -1:\n",
        "                    token = 'x'\n",
        "                else:\n",
        "                    token = '0'\n",
        "                out += token + ' | '\n",
        "            print(out)\n",
        "        print('-------------')"
      ],
      "metadata": {
        "id": "ZlYiXFEsJBmm"
      },
      "execution_count": null,
      "outputs": []
    },
    {
      "cell_type": "code",
      "source": [
        "def get_all_states_impl(current_state, current_symbol, all_states):\n",
        "    for i in range(BOARD_ROWS):\n",
        "        for j in range(BOARD_COLS):\n",
        "            if current_state.data[i][j] == 0:\n",
        "                new_state = current_state.next_state(i, j, current_symbol)\n",
        "                new_hash = new_state.hash()\n",
        "                if new_hash not in all_states:\n",
        "                    is_end = new_state.is_end()\n",
        "                    all_states[new_hash] = (new_state, is_end)\n",
        "                    if not is_end:\n",
        "                        get_all_states_impl(new_state, -current_symbol, all_states)\n",
        "\n",
        "\n",
        "def get_all_states():\n",
        "    current_symbol = 1\n",
        "    current_state = State()\n",
        "    all_states = dict()\n",
        "    all_states[current_state.hash()] = (current_state, current_state.is_end())\n",
        "    get_all_states_impl(current_state, current_symbol, all_states)\n",
        "    return all_states\n",
        "\n",
        "\n",
        "# all possible board configurations\n",
        "all_states = get_all_states()"
      ],
      "metadata": {
        "id": "tAcuLSLCJBpU"
      },
      "execution_count": null,
      "outputs": []
    },
    {
      "cell_type": "code",
      "source": [
        "class Judger:\n",
        "    # @player1: the player who will move first, its chessman will be 1\n",
        "    # @player2: another player with a chessman -1\n",
        "    def __init__(self, player1, player2):\n",
        "        self.p1 = player1\n",
        "        self.p2 = player2\n",
        "        self.current_player = None\n",
        "        self.p1_symbol = 1\n",
        "        self.p2_symbol = -1\n",
        "        self.p1.set_symbol(self.p1_symbol)\n",
        "        self.p2.set_symbol(self.p2_symbol)\n",
        "        self.current_state = State()\n",
        "\n",
        "    def reset(self):\n",
        "        self.p1.reset()\n",
        "        self.p2.reset()\n",
        "\n",
        "    def alternate(self):\n",
        "        while True:\n",
        "            yield self.p1\n",
        "            yield self.p2\n",
        "\n",
        "    # @print_state: if True, print each board during the game\n",
        "    def play(self, print_state=False):\n",
        "        alternator = self.alternate()\n",
        "        self.reset()\n",
        "        current_state = State()\n",
        "        self.p1.set_state(current_state)\n",
        "        self.p2.set_state(current_state)\n",
        "        if print_state:\n",
        "            current_state.print_state()\n",
        "        while True:\n",
        "            player = next(alternator)\n",
        "            i, j, symbol = player.act()\n",
        "            next_state_hash = current_state.next_state(i, j, symbol).hash()\n",
        "            current_state, is_end = all_states[next_state_hash]\n",
        "            self.p1.set_state(current_state)\n",
        "            self.p2.set_state(current_state)\n",
        "            if print_state:\n",
        "                current_state.print_state()\n",
        "            if is_end:\n",
        "                return current_state.winner\n"
      ],
      "metadata": {
        "id": "TsSz38E-JBsl"
      },
      "execution_count": null,
      "outputs": []
    },
    {
      "cell_type": "code",
      "source": [
        "# AI player\n",
        "class Player:\n",
        "    # @step_size: the step size to update estimations\n",
        "    # @epsilon: the probability to explore\n",
        "    def __init__(self, step_size=0.1, epsilon=0.1):\n",
        "        self.estimations = dict()\n",
        "        self.step_size = step_size\n",
        "        self.epsilon = epsilon\n",
        "        self.states = []\n",
        "        self.greedy = []\n",
        "        self.symbol = 0\n",
        "\n",
        "    def reset(self):\n",
        "        self.states = []\n",
        "        self.greedy = []\n",
        "\n",
        "    def set_state(self, state):\n",
        "        self.states.append(state)\n",
        "        self.greedy.append(True)\n",
        "\n",
        "    def set_symbol(self, symbol):\n",
        "        self.symbol = symbol\n",
        "        for hash_val in all_states:\n",
        "            state, is_end = all_states[hash_val]\n",
        "            if is_end:\n",
        "                if state.winner == self.symbol:\n",
        "                    self.estimations[hash_val] = 1.0\n",
        "                elif state.winner == 0:\n",
        "                    # we need to distinguish between a tie and a lose\n",
        "                    self.estimations[hash_val] = 0.5\n",
        "                else:\n",
        "                    self.estimations[hash_val] = 0\n",
        "            else:\n",
        "                self.estimations[hash_val] = 0.5\n",
        "\n",
        "    # update value estimation\n",
        "    def backup(self):\n",
        "        states = [state.hash() for state in self.states]\n",
        "\n",
        "        for i in reversed(range(len(states) - 1)):\n",
        "            state = states[i]\n",
        "            td_error = self.greedy[i] * (\n",
        "                self.estimations[states[i + 1]] - self.estimations[state]\n",
        "            )\n",
        "            self.estimations[state] += self.step_size * td_error\n",
        "\n",
        "    # choose an action based on the state\n",
        "    def act(self):\n",
        "        state = self.states[-1]\n",
        "        next_states = []\n",
        "        next_positions = []\n",
        "        for i in range(BOARD_ROWS):\n",
        "            for j in range(BOARD_COLS):\n",
        "                if state.data[i, j] == 0:\n",
        "                    next_positions.append([i, j])\n",
        "                    next_states.append(state.next_state(\n",
        "                        i, j, self.symbol).hash())\n",
        "\n",
        "        if np.random.rand() < self.epsilon:\n",
        "            action = next_positions[np.random.randint(len(next_positions))]\n",
        "            action.append(self.symbol)\n",
        "            self.greedy[-1] = False\n",
        "            return action\n",
        "\n",
        "        values = []\n",
        "        for hash_val, pos in zip(next_states, next_positions):\n",
        "            values.append((self.estimations[hash_val], pos))\n",
        "        # to select one of the actions of equal value at random due to Python's sort is stable\n",
        "        np.random.shuffle(values)\n",
        "        values.sort(key=lambda x: x[0], reverse=True)\n",
        "        action = values[0][1]\n",
        "        action.append(self.symbol)\n",
        "        return action\n",
        "\n",
        "    def save_policy(self):\n",
        "        with open('policy_%s.bin' % ('first' if self.symbol == 1 else 'second'), 'wb') as f:\n",
        "            pickle.dump(self.estimations, f)\n",
        "\n",
        "    def load_policy(self):\n",
        "        with open('policy_%s.bin' % ('first' if self.symbol == 1 else 'second'), 'rb') as f:\n",
        "            self.estimations = pickle.load(f)"
      ],
      "metadata": {
        "id": "xvBWL864JB1Y"
      },
      "execution_count": null,
      "outputs": []
    },
    {
      "cell_type": "code",
      "source": [
        "# human interface\n",
        "# input a number to put a chessman\n",
        "# | 0 | 1 | 2 |\n",
        "# | 3 | 4 | 5 |\n",
        "# | 6 | 7 | 8 |\n",
        "class HumanPlayer:\n",
        "    def __init__(self, **kwargs):\n",
        "        self.symbol = None\n",
        "        self.keys = ['0', '1', '2', '3', '4', '5', '6', '7', '8']\n",
        "        self.state = None\n",
        "\n",
        "    def reset(self):\n",
        "        pass\n",
        "\n",
        "    def set_state(self, state):\n",
        "        self.state = state\n",
        "\n",
        "    def set_symbol(self, symbol):\n",
        "        self.symbol = symbol\n",
        "\n",
        "    def act(self):\n",
        "        self.state.print_state()\n",
        "        key = input(\"Input your position:\")\n",
        "        data = self.keys.index(key)\n",
        "        i = data // BOARD_COLS\n",
        "        j = data % BOARD_COLS\n",
        "        return i, j, self.symbol\n"
      ],
      "metadata": {
        "id": "WI984cyAJjBR"
      },
      "execution_count": null,
      "outputs": []
    },
    {
      "cell_type": "code",
      "source": [
        "def train(epochs, print_every_n=500):\n",
        "    player1 = Player(epsilon=0.01)\n",
        "    player2 = Player(epsilon=0.01)\n",
        "    judger = Judger(player1, player2)\n",
        "    player1_win = 0.0\n",
        "    player2_win = 0.0\n",
        "    for i in range(1, epochs + 1):\n",
        "        winner = judger.play(print_state=False)\n",
        "        if winner == 1:\n",
        "            player1_win += 1\n",
        "        if winner == -1:\n",
        "            player2_win += 1\n",
        "        if i % print_every_n == 0:\n",
        "            print('Epoch %d, player 1 winrate: %.02f, player 2 winrate: %.02f' % (i, player1_win / i, player2_win / i))\n",
        "        player1.backup()\n",
        "        player2.backup()\n",
        "        judger.reset()\n",
        "    player1.save_policy()\n",
        "    player2.save_policy()\n",
        "\n",
        "def compete(turns):\n",
        "    player1 = Player(epsilon=0)\n",
        "    player2 = Player(epsilon=0)\n",
        "    judger = Judger(player1, player2)\n",
        "    player1.load_policy()\n",
        "    player2.load_policy()\n",
        "    player1_win = 0.0\n",
        "    player2_win = 0.0\n",
        "    for _ in range(turns):\n",
        "        winner = judger.play()\n",
        "        if winner == 1:\n",
        "            player1_win += 1\n",
        "        if winner == -1:\n",
        "            player2_win += 1\n",
        "        judger.reset()\n",
        "    print('%d turns, player 1 win %.02f, player 2 win %.02f' % (turns, player1_win / turns, player2_win / turns))\n",
        "\n",
        "\n",
        "# The game is a zero sum game. If both players are playing with an optimal strategy, every game will end in a tie.\n",
        "# So we test whether the AI can guarantee at least a tie if it goes second.\n",
        "def play():\n",
        "    while True:\n",
        "        player1 = HumanPlayer()\n",
        "        player2 = Player(epsilon=0)\n",
        "        judger = Judger(player1, player2)\n",
        "        player2.load_policy()\n",
        "        winner = judger.play()\n",
        "        if winner == player2.symbol:\n",
        "            print(\"You lose!\")\n",
        "        elif winner == player1.symbol:\n",
        "            print(\"You win!\")\n",
        "        else:\n",
        "            print(\"It is a tie!\")"
      ],
      "metadata": {
        "id": "0UauLGziJmlR"
      },
      "execution_count": null,
      "outputs": []
    },
    {
      "cell_type": "markdown",
      "source": [
        "# Train AI player"
      ],
      "metadata": {
        "id": "h7pxcI6sJ97P"
      }
    },
    {
      "cell_type": "code",
      "source": [
        "train(int(1e5))"
      ],
      "metadata": {
        "colab": {
          "base_uri": "https://localhost:8080/",
          "height": 1000
        },
        "id": "8JqFLQxoJtGT",
        "outputId": "a003bdc6-ed75-410a-f669-32292177ec09"
      },
      "execution_count": null,
      "outputs": [
        {
          "output_type": "stream",
          "name": "stdout",
          "text": [
            "Epoch 500, player 1 winrate: 0.14, player 2 winrate: 0.06\n",
            "Epoch 1000, player 1 winrate: 0.12, player 2 winrate: 0.04\n",
            "Epoch 1500, player 1 winrate: 0.20, player 2 winrate: 0.07\n",
            "Epoch 2000, player 1 winrate: 0.21, player 2 winrate: 0.07\n",
            "Epoch 2500, player 1 winrate: 0.21, player 2 winrate: 0.07\n",
            "Epoch 3000, player 1 winrate: 0.19, player 2 winrate: 0.07\n",
            "Epoch 3500, player 1 winrate: 0.17, player 2 winrate: 0.06\n",
            "Epoch 4000, player 1 winrate: 0.16, player 2 winrate: 0.06\n",
            "Epoch 4500, player 1 winrate: 0.15, player 2 winrate: 0.05\n",
            "Epoch 5000, player 1 winrate: 0.14, player 2 winrate: 0.05\n",
            "Epoch 5500, player 1 winrate: 0.13, player 2 winrate: 0.05\n",
            "Epoch 6000, player 1 winrate: 0.12, player 2 winrate: 0.04\n",
            "Epoch 6500, player 1 winrate: 0.11, player 2 winrate: 0.04\n",
            "Epoch 7000, player 1 winrate: 0.11, player 2 winrate: 0.04\n",
            "Epoch 7500, player 1 winrate: 0.11, player 2 winrate: 0.04\n",
            "Epoch 8000, player 1 winrate: 0.10, player 2 winrate: 0.04\n",
            "Epoch 8500, player 1 winrate: 0.10, player 2 winrate: 0.04\n",
            "Epoch 9000, player 1 winrate: 0.09, player 2 winrate: 0.04\n",
            "Epoch 9500, player 1 winrate: 0.09, player 2 winrate: 0.03\n",
            "Epoch 10000, player 1 winrate: 0.09, player 2 winrate: 0.03\n",
            "Epoch 10500, player 1 winrate: 0.08, player 2 winrate: 0.03\n",
            "Epoch 11000, player 1 winrate: 0.08, player 2 winrate: 0.03\n",
            "Epoch 11500, player 1 winrate: 0.08, player 2 winrate: 0.03\n",
            "Epoch 12000, player 1 winrate: 0.08, player 2 winrate: 0.03\n",
            "Epoch 12500, player 1 winrate: 0.07, player 2 winrate: 0.03\n",
            "Epoch 13000, player 1 winrate: 0.07, player 2 winrate: 0.03\n",
            "Epoch 13500, player 1 winrate: 0.07, player 2 winrate: 0.03\n",
            "Epoch 14000, player 1 winrate: 0.07, player 2 winrate: 0.03\n",
            "Epoch 14500, player 1 winrate: 0.07, player 2 winrate: 0.03\n",
            "Epoch 15000, player 1 winrate: 0.07, player 2 winrate: 0.03\n",
            "Epoch 15500, player 1 winrate: 0.07, player 2 winrate: 0.03\n",
            "Epoch 16000, player 1 winrate: 0.07, player 2 winrate: 0.03\n",
            "Epoch 16500, player 1 winrate: 0.07, player 2 winrate: 0.03\n",
            "Epoch 17000, player 1 winrate: 0.06, player 2 winrate: 0.03\n",
            "Epoch 17500, player 1 winrate: 0.06, player 2 winrate: 0.03\n",
            "Epoch 18000, player 1 winrate: 0.06, player 2 winrate: 0.02\n",
            "Epoch 18500, player 1 winrate: 0.06, player 2 winrate: 0.02\n",
            "Epoch 19000, player 1 winrate: 0.06, player 2 winrate: 0.02\n",
            "Epoch 19500, player 1 winrate: 0.06, player 2 winrate: 0.02\n",
            "Epoch 20000, player 1 winrate: 0.06, player 2 winrate: 0.02\n",
            "Epoch 20500, player 1 winrate: 0.06, player 2 winrate: 0.02\n",
            "Epoch 21000, player 1 winrate: 0.06, player 2 winrate: 0.02\n",
            "Epoch 21500, player 1 winrate: 0.06, player 2 winrate: 0.02\n",
            "Epoch 22000, player 1 winrate: 0.06, player 2 winrate: 0.02\n",
            "Epoch 22500, player 1 winrate: 0.06, player 2 winrate: 0.02\n",
            "Epoch 23000, player 1 winrate: 0.06, player 2 winrate: 0.02\n",
            "Epoch 23500, player 1 winrate: 0.05, player 2 winrate: 0.02\n",
            "Epoch 24000, player 1 winrate: 0.05, player 2 winrate: 0.02\n",
            "Epoch 24500, player 1 winrate: 0.05, player 2 winrate: 0.02\n",
            "Epoch 25000, player 1 winrate: 0.05, player 2 winrate: 0.02\n",
            "Epoch 25500, player 1 winrate: 0.05, player 2 winrate: 0.02\n",
            "Epoch 26000, player 1 winrate: 0.05, player 2 winrate: 0.02\n",
            "Epoch 26500, player 1 winrate: 0.05, player 2 winrate: 0.02\n",
            "Epoch 27000, player 1 winrate: 0.05, player 2 winrate: 0.02\n",
            "Epoch 27500, player 1 winrate: 0.05, player 2 winrate: 0.02\n"
          ]
        },
        {
          "output_type": "error",
          "ename": "KeyboardInterrupt",
          "evalue": "",
          "traceback": [
            "\u001b[0;31m---------------------------------------------------------------------------\u001b[0m",
            "\u001b[0;31mKeyboardInterrupt\u001b[0m                         Traceback (most recent call last)",
            "\u001b[0;32m<ipython-input-9-ab517c1a13d0>\u001b[0m in \u001b[0;36m<cell line: 1>\u001b[0;34m()\u001b[0m\n\u001b[0;32m----> 1\u001b[0;31m \u001b[0mtrain\u001b[0m\u001b[0;34m(\u001b[0m\u001b[0mint\u001b[0m\u001b[0;34m(\u001b[0m\u001b[0;36m1e5\u001b[0m\u001b[0;34m)\u001b[0m\u001b[0;34m)\u001b[0m\u001b[0;34m\u001b[0m\u001b[0;34m\u001b[0m\u001b[0m\n\u001b[0m",
            "\u001b[0;32m<ipython-input-7-8de19b7f67f5>\u001b[0m in \u001b[0;36mtrain\u001b[0;34m(epochs, print_every_n)\u001b[0m\n\u001b[1;32m      6\u001b[0m     \u001b[0mplayer2_win\u001b[0m \u001b[0;34m=\u001b[0m \u001b[0;36m0.0\u001b[0m\u001b[0;34m\u001b[0m\u001b[0;34m\u001b[0m\u001b[0m\n\u001b[1;32m      7\u001b[0m     \u001b[0;32mfor\u001b[0m \u001b[0mi\u001b[0m \u001b[0;32min\u001b[0m \u001b[0mrange\u001b[0m\u001b[0;34m(\u001b[0m\u001b[0;36m1\u001b[0m\u001b[0;34m,\u001b[0m \u001b[0mepochs\u001b[0m \u001b[0;34m+\u001b[0m \u001b[0;36m1\u001b[0m\u001b[0;34m)\u001b[0m\u001b[0;34m:\u001b[0m\u001b[0;34m\u001b[0m\u001b[0;34m\u001b[0m\u001b[0m\n\u001b[0;32m----> 8\u001b[0;31m         \u001b[0mwinner\u001b[0m \u001b[0;34m=\u001b[0m \u001b[0mjudger\u001b[0m\u001b[0;34m.\u001b[0m\u001b[0mplay\u001b[0m\u001b[0;34m(\u001b[0m\u001b[0mprint_state\u001b[0m\u001b[0;34m=\u001b[0m\u001b[0;32mFalse\u001b[0m\u001b[0;34m)\u001b[0m\u001b[0;34m\u001b[0m\u001b[0;34m\u001b[0m\u001b[0m\n\u001b[0m\u001b[1;32m      9\u001b[0m         \u001b[0;32mif\u001b[0m \u001b[0mwinner\u001b[0m \u001b[0;34m==\u001b[0m \u001b[0;36m1\u001b[0m\u001b[0;34m:\u001b[0m\u001b[0;34m\u001b[0m\u001b[0;34m\u001b[0m\u001b[0m\n\u001b[1;32m     10\u001b[0m             \u001b[0mplayer1_win\u001b[0m \u001b[0;34m+=\u001b[0m \u001b[0;36m1\u001b[0m\u001b[0;34m\u001b[0m\u001b[0;34m\u001b[0m\u001b[0m\n",
            "\u001b[0;31mKeyboardInterrupt\u001b[0m: "
          ]
        }
      ]
    },
    {
      "cell_type": "markdown",
      "source": [
        "## 2 AI players compete"
      ],
      "metadata": {
        "id": "G_PIngPdLcZA"
      }
    },
    {
      "cell_type": "code",
      "source": [
        "compete(int(1e3))"
      ],
      "metadata": {
        "colab": {
          "base_uri": "https://localhost:8080/"
        },
        "id": "haRwkPB2Jx3D",
        "outputId": "f98c0023-3624-43af-a0df-b28f67ea0b41"
      },
      "execution_count": null,
      "outputs": [
        {
          "output_type": "stream",
          "name": "stdout",
          "text": [
            "1000 turns, player 1 win 0.00, player 2 win 0.00\n"
          ]
        }
      ]
    },
    {
      "cell_type": "markdown",
      "source": [
        "## Play with AI"
      ],
      "metadata": {
        "id": "e--OYdAkLhlw"
      }
    },
    {
      "cell_type": "code",
      "source": [
        "# | 0 | 1 | 2 |\n",
        "# | 3 | 4 | 5 |\n",
        "# | 6 | 7 | 8 |\n",
        "play()"
      ],
      "metadata": {
        "colab": {
          "base_uri": "https://localhost:8080/",
          "height": 928
        },
        "id": "IgYmrq6bJx6f",
        "outputId": "14b4674f-5e06-4b49-8678-d1ff7d5747a6"
      },
      "execution_count": null,
      "outputs": [
        {
          "output_type": "stream",
          "name": "stdout",
          "text": [
            "-------------\n",
            "| 0 | 0 | 0 | \n",
            "-------------\n",
            "| 0 | 0 | 0 | \n",
            "-------------\n",
            "| 0 | 0 | 0 | \n",
            "-------------\n",
            "Input your position:1\n",
            "-------------\n",
            "| 0 | * | 0 | \n",
            "-------------\n",
            "| 0 | x | 0 | \n",
            "-------------\n",
            "| 0 | 0 | 0 | \n",
            "-------------\n",
            "Input your position:2\n",
            "-------------\n",
            "| 0 | * | * | \n",
            "-------------\n",
            "| 0 | x | 0 | \n",
            "-------------\n",
            "| 0 | x | 0 | \n",
            "-------------\n",
            "Input your position:0\n",
            "You win!\n",
            "-------------\n",
            "| 0 | 0 | 0 | \n",
            "-------------\n",
            "| 0 | 0 | 0 | \n",
            "-------------\n",
            "| 0 | 0 | 0 | \n",
            "-------------\n"
          ]
        },
        {
          "output_type": "error",
          "ename": "KeyboardInterrupt",
          "evalue": "Interrupted by user",
          "traceback": [
            "\u001b[0;31m---------------------------------------------------------------------------\u001b[0m",
            "\u001b[0;31mKeyboardInterrupt\u001b[0m                         Traceback (most recent call last)",
            "\u001b[0;32m<ipython-input-10-8fc53ebdf180>\u001b[0m in \u001b[0;36m<cell line: 4>\u001b[0;34m()\u001b[0m\n\u001b[1;32m      2\u001b[0m \u001b[0;31m# | 3 | 4 | 5 |\u001b[0m\u001b[0;34m\u001b[0m\u001b[0;34m\u001b[0m\u001b[0m\n\u001b[1;32m      3\u001b[0m \u001b[0;31m# | 6 | 7 | 8 |\u001b[0m\u001b[0;34m\u001b[0m\u001b[0;34m\u001b[0m\u001b[0m\n\u001b[0;32m----> 4\u001b[0;31m \u001b[0mplay\u001b[0m\u001b[0;34m(\u001b[0m\u001b[0;34m)\u001b[0m\u001b[0;34m\u001b[0m\u001b[0;34m\u001b[0m\u001b[0m\n\u001b[0m",
            "\u001b[0;32m<ipython-input-7-8de19b7f67f5>\u001b[0m in \u001b[0;36mplay\u001b[0;34m()\u001b[0m\n\u001b[1;32m     45\u001b[0m         \u001b[0mjudger\u001b[0m \u001b[0;34m=\u001b[0m \u001b[0mJudger\u001b[0m\u001b[0;34m(\u001b[0m\u001b[0mplayer1\u001b[0m\u001b[0;34m,\u001b[0m \u001b[0mplayer2\u001b[0m\u001b[0;34m)\u001b[0m\u001b[0;34m\u001b[0m\u001b[0;34m\u001b[0m\u001b[0m\n\u001b[1;32m     46\u001b[0m         \u001b[0mplayer2\u001b[0m\u001b[0;34m.\u001b[0m\u001b[0mload_policy\u001b[0m\u001b[0;34m(\u001b[0m\u001b[0;34m)\u001b[0m\u001b[0;34m\u001b[0m\u001b[0;34m\u001b[0m\u001b[0m\n\u001b[0;32m---> 47\u001b[0;31m         \u001b[0mwinner\u001b[0m \u001b[0;34m=\u001b[0m \u001b[0mjudger\u001b[0m\u001b[0;34m.\u001b[0m\u001b[0mplay\u001b[0m\u001b[0;34m(\u001b[0m\u001b[0;34m)\u001b[0m\u001b[0;34m\u001b[0m\u001b[0;34m\u001b[0m\u001b[0m\n\u001b[0m\u001b[1;32m     48\u001b[0m         \u001b[0;32mif\u001b[0m \u001b[0mwinner\u001b[0m \u001b[0;34m==\u001b[0m \u001b[0mplayer2\u001b[0m\u001b[0;34m.\u001b[0m\u001b[0msymbol\u001b[0m\u001b[0;34m:\u001b[0m\u001b[0;34m\u001b[0m\u001b[0;34m\u001b[0m\u001b[0m\n\u001b[1;32m     49\u001b[0m             \u001b[0mprint\u001b[0m\u001b[0;34m(\u001b[0m\u001b[0;34m\"You lose!\"\u001b[0m\u001b[0;34m)\u001b[0m\u001b[0;34m\u001b[0m\u001b[0;34m\u001b[0m\u001b[0m\n",
            "\u001b[0;32m<ipython-input-4-aca1b9d9d695>\u001b[0m in \u001b[0;36mplay\u001b[0;34m(self, print_state)\u001b[0m\n\u001b[1;32m     32\u001b[0m         \u001b[0;32mwhile\u001b[0m \u001b[0;32mTrue\u001b[0m\u001b[0;34m:\u001b[0m\u001b[0;34m\u001b[0m\u001b[0;34m\u001b[0m\u001b[0m\n\u001b[1;32m     33\u001b[0m             \u001b[0mplayer\u001b[0m \u001b[0;34m=\u001b[0m \u001b[0mnext\u001b[0m\u001b[0;34m(\u001b[0m\u001b[0malternator\u001b[0m\u001b[0;34m)\u001b[0m\u001b[0;34m\u001b[0m\u001b[0;34m\u001b[0m\u001b[0m\n\u001b[0;32m---> 34\u001b[0;31m             \u001b[0mi\u001b[0m\u001b[0;34m,\u001b[0m \u001b[0mj\u001b[0m\u001b[0;34m,\u001b[0m \u001b[0msymbol\u001b[0m \u001b[0;34m=\u001b[0m \u001b[0mplayer\u001b[0m\u001b[0;34m.\u001b[0m\u001b[0mact\u001b[0m\u001b[0;34m(\u001b[0m\u001b[0;34m)\u001b[0m\u001b[0;34m\u001b[0m\u001b[0;34m\u001b[0m\u001b[0m\n\u001b[0m\u001b[1;32m     35\u001b[0m             \u001b[0mnext_state_hash\u001b[0m \u001b[0;34m=\u001b[0m \u001b[0mcurrent_state\u001b[0m\u001b[0;34m.\u001b[0m\u001b[0mnext_state\u001b[0m\u001b[0;34m(\u001b[0m\u001b[0mi\u001b[0m\u001b[0;34m,\u001b[0m \u001b[0mj\u001b[0m\u001b[0;34m,\u001b[0m \u001b[0msymbol\u001b[0m\u001b[0;34m)\u001b[0m\u001b[0;34m.\u001b[0m\u001b[0mhash\u001b[0m\u001b[0;34m(\u001b[0m\u001b[0;34m)\u001b[0m\u001b[0;34m\u001b[0m\u001b[0;34m\u001b[0m\u001b[0m\n\u001b[1;32m     36\u001b[0m             \u001b[0mcurrent_state\u001b[0m\u001b[0;34m,\u001b[0m \u001b[0mis_end\u001b[0m \u001b[0;34m=\u001b[0m \u001b[0mall_states\u001b[0m\u001b[0;34m[\u001b[0m\u001b[0mnext_state_hash\u001b[0m\u001b[0;34m]\u001b[0m\u001b[0;34m\u001b[0m\u001b[0;34m\u001b[0m\u001b[0m\n",
            "\u001b[0;32m<ipython-input-6-f05790fc3a4a>\u001b[0m in \u001b[0;36mact\u001b[0;34m(self)\u001b[0m\n\u001b[1;32m     21\u001b[0m     \u001b[0;32mdef\u001b[0m \u001b[0mact\u001b[0m\u001b[0;34m(\u001b[0m\u001b[0mself\u001b[0m\u001b[0;34m)\u001b[0m\u001b[0;34m:\u001b[0m\u001b[0;34m\u001b[0m\u001b[0;34m\u001b[0m\u001b[0m\n\u001b[1;32m     22\u001b[0m         \u001b[0mself\u001b[0m\u001b[0;34m.\u001b[0m\u001b[0mstate\u001b[0m\u001b[0;34m.\u001b[0m\u001b[0mprint_state\u001b[0m\u001b[0;34m(\u001b[0m\u001b[0;34m)\u001b[0m\u001b[0;34m\u001b[0m\u001b[0;34m\u001b[0m\u001b[0m\n\u001b[0;32m---> 23\u001b[0;31m         \u001b[0mkey\u001b[0m \u001b[0;34m=\u001b[0m \u001b[0minput\u001b[0m\u001b[0;34m(\u001b[0m\u001b[0;34m\"Input your position:\"\u001b[0m\u001b[0;34m)\u001b[0m\u001b[0;34m\u001b[0m\u001b[0;34m\u001b[0m\u001b[0m\n\u001b[0m\u001b[1;32m     24\u001b[0m         \u001b[0mdata\u001b[0m \u001b[0;34m=\u001b[0m \u001b[0mself\u001b[0m\u001b[0;34m.\u001b[0m\u001b[0mkeys\u001b[0m\u001b[0;34m.\u001b[0m\u001b[0mindex\u001b[0m\u001b[0;34m(\u001b[0m\u001b[0mkey\u001b[0m\u001b[0;34m)\u001b[0m\u001b[0;34m\u001b[0m\u001b[0;34m\u001b[0m\u001b[0m\n\u001b[1;32m     25\u001b[0m         \u001b[0mi\u001b[0m \u001b[0;34m=\u001b[0m \u001b[0mdata\u001b[0m \u001b[0;34m//\u001b[0m \u001b[0mBOARD_COLS\u001b[0m\u001b[0;34m\u001b[0m\u001b[0;34m\u001b[0m\u001b[0m\n",
            "\u001b[0;32m/usr/local/lib/python3.10/dist-packages/ipykernel/kernelbase.py\u001b[0m in \u001b[0;36mraw_input\u001b[0;34m(self, prompt)\u001b[0m\n\u001b[1;32m    849\u001b[0m                 \u001b[0;34m\"raw_input was called, but this frontend does not support input requests.\"\u001b[0m\u001b[0;34m\u001b[0m\u001b[0;34m\u001b[0m\u001b[0m\n\u001b[1;32m    850\u001b[0m             )\n\u001b[0;32m--> 851\u001b[0;31m         return self._input_request(str(prompt),\n\u001b[0m\u001b[1;32m    852\u001b[0m             \u001b[0mself\u001b[0m\u001b[0;34m.\u001b[0m\u001b[0m_parent_ident\u001b[0m\u001b[0;34m,\u001b[0m\u001b[0;34m\u001b[0m\u001b[0;34m\u001b[0m\u001b[0m\n\u001b[1;32m    853\u001b[0m             \u001b[0mself\u001b[0m\u001b[0;34m.\u001b[0m\u001b[0m_parent_header\u001b[0m\u001b[0;34m,\u001b[0m\u001b[0;34m\u001b[0m\u001b[0;34m\u001b[0m\u001b[0m\n",
            "\u001b[0;32m/usr/local/lib/python3.10/dist-packages/ipykernel/kernelbase.py\u001b[0m in \u001b[0;36m_input_request\u001b[0;34m(self, prompt, ident, parent, password)\u001b[0m\n\u001b[1;32m    893\u001b[0m             \u001b[0;32mexcept\u001b[0m \u001b[0mKeyboardInterrupt\u001b[0m\u001b[0;34m:\u001b[0m\u001b[0;34m\u001b[0m\u001b[0;34m\u001b[0m\u001b[0m\n\u001b[1;32m    894\u001b[0m                 \u001b[0;31m# re-raise KeyboardInterrupt, to truncate traceback\u001b[0m\u001b[0;34m\u001b[0m\u001b[0;34m\u001b[0m\u001b[0m\n\u001b[0;32m--> 895\u001b[0;31m                 \u001b[0;32mraise\u001b[0m \u001b[0mKeyboardInterrupt\u001b[0m\u001b[0;34m(\u001b[0m\u001b[0;34m\"Interrupted by user\"\u001b[0m\u001b[0;34m)\u001b[0m \u001b[0;32mfrom\u001b[0m \u001b[0;32mNone\u001b[0m\u001b[0;34m\u001b[0m\u001b[0;34m\u001b[0m\u001b[0m\n\u001b[0m\u001b[1;32m    896\u001b[0m             \u001b[0;32mexcept\u001b[0m \u001b[0mException\u001b[0m \u001b[0;32mas\u001b[0m \u001b[0me\u001b[0m\u001b[0;34m:\u001b[0m\u001b[0;34m\u001b[0m\u001b[0;34m\u001b[0m\u001b[0m\n\u001b[1;32m    897\u001b[0m                 \u001b[0mself\u001b[0m\u001b[0;34m.\u001b[0m\u001b[0mlog\u001b[0m\u001b[0;34m.\u001b[0m\u001b[0mwarning\u001b[0m\u001b[0;34m(\u001b[0m\u001b[0;34m\"Invalid Message:\"\u001b[0m\u001b[0;34m,\u001b[0m \u001b[0mexc_info\u001b[0m\u001b[0;34m=\u001b[0m\u001b[0;32mTrue\u001b[0m\u001b[0;34m)\u001b[0m\u001b[0;34m\u001b[0m\u001b[0;34m\u001b[0m\u001b[0m\n",
            "\u001b[0;31mKeyboardInterrupt\u001b[0m: Interrupted by user"
          ]
        }
      ]
    },
    {
      "cell_type": "code",
      "source": [],
      "metadata": {
        "id": "_O2QLJP43HbW"
      },
      "execution_count": null,
      "outputs": []
    }
  ]
}